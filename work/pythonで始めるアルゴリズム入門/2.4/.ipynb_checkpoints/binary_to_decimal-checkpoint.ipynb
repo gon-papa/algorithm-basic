{
 "cells": [
  {
   "cell_type": "code",
   "execution_count": 2,
   "id": "383f8358-70e3-4bb3-ac96-125bf6cde1ae",
   "metadata": {},
   "outputs": [
    {
     "name": "stdout",
     "output_type": "stream",
     "text": [
      "1\n",
      "16\n",
      "0\n",
      "8\n",
      "0\n",
      "4\n",
      "1\n",
      "2\n",
      "0\n",
      "1\n",
      "18\n"
     ]
    }
   ],
   "source": [
    "n = '10010'\n",
    "\n",
    "result = 0\n",
    "for i in range(len(n)):\n",
    "    print(int(n[i]))\n",
    "    print((2 ** (len(n) - i -1)))\n",
    "    result += int(n[i]) * (2 ** (len(n) - i -1))\n",
    "print(result)"
   ]
  },
  {
   "cell_type": "code",
   "execution_count": null,
   "id": "6d8eb4ce-2aa3-48da-a397-a489b4672294",
   "metadata": {},
   "outputs": [],
   "source": []
  },
  {
   "cell_type": "code",
   "execution_count": null,
   "id": "535a0ade-3e59-4910-a99f-8410b187d234",
   "metadata": {},
   "outputs": [],
   "source": []
  }
 ],
 "metadata": {
  "kernelspec": {
   "display_name": "Python 3 (ipykernel)",
   "language": "python",
   "name": "python3"
  },
  "language_info": {
   "codemirror_mode": {
    "name": "ipython",
    "version": 3
   },
   "file_extension": ".py",
   "mimetype": "text/x-python",
   "name": "python",
   "nbconvert_exporter": "python",
   "pygments_lexer": "ipython3",
   "version": "3.11.6"
  }
 },
 "nbformat": 4,
 "nbformat_minor": 5
}
