{
 "cells": [
  {
   "cell_type": "code",
   "execution_count": 1,
   "id": "15914047-7df0-443d-bf87-f8cb829b98e1",
   "metadata": {},
   "outputs": [],
   "source": [
    "import sys\n",
    "# 10進数を2進数へ変換する"
   ]
  },
  {
   "cell_type": "code",
   "execution_count": 2,
   "id": "b9636b30-bf90-4e9c-b691-d31ce71cee9c",
   "metadata": {},
   "outputs": [],
   "source": [
    "def decimal_to_binary(decimal)-> str:\n",
    "    result = ''\n",
    "    while decimal > 0:\n",
    "        result = str(decimal % 2) + result\n",
    "        decimal //= 2\n",
    "    return result"
   ]
  },
  {
   "cell_type": "code",
   "execution_count": 3,
   "id": "9feaa1df-9968-4b66-b06a-30a501b40adf",
   "metadata": {},
   "outputs": [],
   "source": [
    "# test\n",
    "def test():\n",
    "    decimal = 18\n",
    "    binary = decimal_to_binary(decimal)\n",
    "    answer = '10010'\n",
    "    if (binary == answer):\n",
    "        print('ok')\n",
    "        return True\n",
    "    else:\n",
    "        print(f\"actual:{binary} expect:{answer} test_failed\")\n",
    "        return False"
   ]
  },
  {
   "cell_type": "code",
   "execution_count": 4,
   "id": "8bef155b-8666-4f3e-b66b-70c094aae896",
   "metadata": {},
   "outputs": [
    {
     "name": "stdout",
     "output_type": "stream",
     "text": [
      "ok\n",
      "10100\n"
     ]
    }
   ],
   "source": [
    "decimal = 20\n",
    "binary = decimal_to_binary(decimal)\n",
    "test = test()\n",
    "\n",
    "print(binary)"
   ]
  },
  {
   "cell_type": "code",
   "execution_count": 5,
   "id": "3d5c0cdc-63d2-46bd-9d5d-76d9ee702159",
   "metadata": {},
   "outputs": [],
   "source": [
    "# おまけ\n",
    "# 10進数から他の進数(2~10)へ汎用性を上げる"
   ]
  },
  {
   "cell_type": "code",
   "execution_count": 6,
   "id": "36d360b5-eac8-43cf-ae5d-d940d0e31658",
   "metadata": {},
   "outputs": [],
   "source": [
    "def decimal_to_base_number(decimal, base_number)-> str:\n",
    "    result = ''\n",
    "    while decimal > 0:\n",
    "        result = str(decimal % base_number) + result\n",
    "        decimal //= base_number\n",
    "    return result"
   ]
  },
  {
   "cell_type": "code",
   "execution_count": 7,
   "id": "b53d58b1-5f69-41a5-a9e2-5284895f5fed",
   "metadata": {},
   "outputs": [
    {
     "name": "stdout",
     "output_type": "stream",
     "text": [
      "10\n"
     ]
    }
   ],
   "source": [
    "decimal = 10\n",
    "base_number = 8\n",
    "result = decimal_to_base_number(decimal, base_number)\n",
    "\n",
    "print(result)"
   ]
  }
 ],
 "metadata": {
  "kernelspec": {
   "display_name": "Python 3 (ipykernel)",
   "language": "python",
   "name": "python3"
  },
  "language_info": {
   "codemirror_mode": {
    "name": "ipython",
    "version": 3
   },
   "file_extension": ".py",
   "mimetype": "text/x-python",
   "name": "python",
   "nbconvert_exporter": "python",
   "pygments_lexer": "ipython3",
   "version": "3.11.6"
  }
 },
 "nbformat": 4,
 "nbformat_minor": 5
}
