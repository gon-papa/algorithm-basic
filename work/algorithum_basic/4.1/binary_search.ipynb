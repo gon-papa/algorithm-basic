{
 "cells": [
  {
   "cell_type": "code",
   "execution_count": null,
   "metadata": {},
   "outputs": [],
   "source": [
    "\n",
    "# 探索範囲を2等分しながら探索範囲を狭めていく。ただし、対象が昇順か降順でソートされていることを前提とする\n",
    "# [10, 20, 30, 40, 50, 60, 70, 80, 90, 100]\n",
    "data = [i for i in range(10, 101, 10)]\n",
    "\n",
    "# マッチしたデータのインデックスを返す\n",
    "def binary_search(list, n):\n",
    "    left = 0\n",
    "    right = len(list) - 1\n",
    "    while left <= right:\n",
    "        middle = (left + right) // 2\n",
    "        if list[middle] == n:\n",
    "            return middle\n",
    "        elif list[middle] < n:\n",
    "            left = middle + 1\n",
    "        else:\n",
    "            right = middle - 1\n",
    "    return -1\n",
    "            \n",
    "print(binary_search(data, 100))"
   ]
  },
  {
   "cell_type": "code",
   "execution_count": null,
   "metadata": {},
   "outputs": [],
   "source": []
  }
 ],
 "metadata": {
  "kernelspec": {
   "display_name": "Python 3 (ipykernel)",
   "language": "python",
   "name": "python3"
  },
  "language_info": {
   "codemirror_mode": {
    "name": "ipython",
    "version": 3
   },
   "file_extension": ".py",
   "mimetype": "text/x-python",
   "name": "python",
   "nbconvert_exporter": "python",
   "pygments_lexer": "ipython3",
   "version": "3.11.6"
  }
 },
 "nbformat": 4,
 "nbformat_minor": 2
}
