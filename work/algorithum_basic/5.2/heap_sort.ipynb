{
 "cells": [
  {
   "cell_type": "code",
   "execution_count": 23,
   "metadata": {},
   "outputs": [
    {
     "name": "stdout",
     "output_type": "stream",
     "text": [
      "[15, 13, 11, 8, 9, 4, 5, 2, 7, 6]\n",
      "[2, 4, 5, 6, 7, 8, 9, 11, 13, 15]\n"
     ]
    }
   ],
   "source": [
    "# ヒープソート\n",
    "# ヒープは木構造であり、子ノードの値は、親ノードの値以上である性質を持つ\n",
    "# ヒープを構成後にヒープから小さい順に取り出して、ヒープが空になるまで繰り返せば並び替えが実現できる\n",
    "# 親ノードのindexの求め方はindexから1を引いて2で割った商となる\n",
    "# 子ノードのindexは親indexを2倍にして1を足した数となる(2つあるので、indexを2倍にして2を足した数も同様)\n",
    "\n",
    "list = [6, 15, 4, 2, 8, 5, 11, 9, 7, 13]\n",
    "\n",
    "# ヒープを構成\n",
    "for i in range(len(list)):\n",
    "    j = i\n",
    "    # jが0を超える かつ list[j]が子ノードよりも小さい場合\n",
    "    while (j > 0) and (list[(j - 1) // 2] < list[j]):\n",
    "        list[(j - 1) // 2], list[j] = list[j], list[(j - 1) // 2] # 親と交換\n",
    "        j = (j - 1)  // 2 # jを親に位置にセット\n",
    "        \n",
    "print(list)\n",
    "\n",
    "# ソートを実行\n",
    "count = 0\n",
    "for i in range(len(list), 0,  -1):\n",
    "    # ヒープの先頭と交換\n",
    "    list[i - 1], list[0] = list[0], list[i - 1]\n",
    "    j = 0 # ヒープの先頭から開始\n",
    "    \n",
    "    # 左子ノードの方が大きい or 右子ノードの方が大きい\n",
    "    while ((2 * j + 1 < i - 1) and (list[j] < list[2 * j + 1]))\\\n",
    "    or ((2 * j + 2 < i - 1) and (list[j] < list[2 * j + 2])):\n",
    "        \n",
    "        if (2 * j + 2 == i - 1) or (list[2 * j + 1] > list[2 * j + 2]): # 左子ノードが右子ノードよりも大きい場合\n",
    "            # 左子ノードと交換\n",
    "            list[j], list[2 * j + 1] = list[2 * j + 1], list[j]\n",
    "            # 左子ノードに移動\n",
    "            j = 2 * j + 1\n",
    "        else: # 右子ノードが左子ノードよりも大きい場合\n",
    "            # 右子ノードと交換\n",
    "            list[j], list[2 * j + 2] = list[2 * j + 2], list[j]\n",
    "            j = 2 * j + 2\n",
    "            \n",
    "print(list)\n",
    "            \n",
    "\n",
    "    \n",
    "    "
   ]
  },
  {
   "cell_type": "code",
   "execution_count": 1,
   "metadata": {},
   "outputs": [],
   "source": [
    "# ライブラリを使用するパターン\n",
    "import heapq"
   ]
  },
  {
   "cell_type": "code",
   "execution_count": 4,
   "metadata": {},
   "outputs": [
    {
     "data": {
      "text/plain": [
       "[2, 4, 5, 6, 7, 8, 9, 11, 13, 15]"
      ]
     },
     "execution_count": 4,
     "metadata": {},
     "output_type": "execute_result"
    }
   ],
   "source": [
    "list = [6, 15, 4, 2, 8, 5, 11, 9, 7, 13]\n",
    "\n",
    "def heap_sort(array):\n",
    "    h = array.copy()\n",
    "    heapq.heapify(h)\n",
    "    return [heapq.heappop(h) for _ in range(len(array))]\n",
    "\n",
    "heap_sort(list)"
   ]
  }
 ],
 "metadata": {
  "kernelspec": {
   "display_name": "Python 3 (ipykernel)",
   "language": "python",
   "name": "python3"
  },
  "language_info": {
   "codemirror_mode": {
    "name": "ipython",
    "version": 3
   },
   "file_extension": ".py",
   "mimetype": "text/x-python",
   "name": "python",
   "nbconvert_exporter": "python",
   "pygments_lexer": "ipython3",
   "version": "3.11.6"
  }
 },
 "nbformat": 4,
 "nbformat_minor": 2
}
