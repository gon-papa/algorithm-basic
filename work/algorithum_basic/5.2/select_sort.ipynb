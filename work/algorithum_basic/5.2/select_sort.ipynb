{
 "cells": [
  {
   "cell_type": "code",
   "execution_count": 8,
   "metadata": {},
   "outputs": [
    {
     "name": "stdout",
     "output_type": "stream",
     "text": [
      "[2, 4, 5, 6, 7, 8, 9, 11, 13, 15]\n"
     ]
    }
   ],
   "source": [
    "# 選択ソート\n",
    "# 選択ソートは配列の整列されていない部分から最小値または最大値を持つ要素を探して、その値を未整列の先頭要素に移動(交換)することを繰り返して整列を行うアルゴリズム\n",
    "\n",
    "list = [6, 15, 4, 2, 8, 5, 11, 9, 7, 13]\n",
    "\n",
    "# listの要素ごとに繰り返す\n",
    "for i in range(len(list)):\n",
    "    min = i\n",
    "    # リストの要素+i番目以降を繰り返し比較\n",
    "    for j in range(i + 1, len(list)):\n",
    "        if list[min] > list[j]:\n",
    "            min = j # 宰相が見つかれば更新\n",
    "    list[i], list[min] = list[min], list[i] # 順番入れ替え\n",
    "    \n",
    "print(list)"
   ]
  }
 ],
 "metadata": {
  "kernelspec": {
   "display_name": "Python 3 (ipykernel)",
   "language": "python",
   "name": "python3"
  },
  "language_info": {
   "codemirror_mode": {
    "name": "ipython",
    "version": 3
   },
   "file_extension": ".py",
   "mimetype": "text/x-python",
   "name": "python",
   "nbconvert_exporter": "python",
   "pygments_lexer": "ipython3",
   "version": "3.11.6"
  }
 },
 "nbformat": 4,
 "nbformat_minor": 2
}
