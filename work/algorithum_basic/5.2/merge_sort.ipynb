{
 "cells": [
  {
   "cell_type": "code",
   "execution_count": 1,
   "metadata": {},
   "outputs": [],
   "source": [
    "from typing import List"
   ]
  },
  {
   "cell_type": "code",
   "execution_count": 5,
   "metadata": {},
   "outputs": [
    {
     "name": "stdout",
     "output_type": "stream",
     "text": [
      "left:[6], right:[15]\n",
      "left:[2], right:[8]\n",
      "left:[4], right:[2, 8]\n",
      "left:[6, 15], right:[2, 4, 8]\n",
      "left:[5], right:[11]\n",
      "left:[7], right:[13]\n",
      "left:[9], right:[7, 13]\n",
      "left:[5, 11], right:[7, 9, 13]\n",
      "left:[2, 4, 6, 8, 15], right:[5, 7, 9, 11, 13]\n"
     ]
    },
    {
     "data": {
      "text/plain": [
       "[2, 4, 5, 6, 7, 8, 9, 11, 13, 15]"
      ]
     },
     "execution_count": 5,
     "metadata": {},
     "output_type": "execute_result"
    }
   ],
   "source": [
    "# マージソート\n",
    "# 整列されていないリストを分割して、それぞれを整列させた後、マージして整列済みのリストを作成する\n",
    "\n",
    "list = [6, 15, 4, 2, 8, 5, 11, 9, 7, 13]\n",
    "\n",
    "\n",
    "def merge_sort(list: List):\n",
    "    length = len(list)\n",
    "    if length <= 1:\n",
    "        return list\n",
    "    \n",
    "    # 分割する半分の位置を取得\n",
    "    mid = length // 2\n",
    "    # 再起的に分割\n",
    "    left = merge_sort(list[:mid])\n",
    "    right = merge_sort(list[mid:])\n",
    "    print(f'left:{left}, right:{right}')\n",
    "    \n",
    "    return merge(left, right)\n",
    "\n",
    "def merge(left: List, right: List):\n",
    "    result = []\n",
    "    i, j = 0, 0 # 左右配列のカウント\n",
    "    \n",
    "    while (i < len(left)) and (j < len(right)):\n",
    "        if left[i] <= right[j]:\n",
    "            result.append(left[i])\n",
    "            i += 1\n",
    "        else:\n",
    "            result.append(right[j])\n",
    "            j += 1\n",
    "            \n",
    "    if i < len(left):\n",
    "        result.extend(left[i:])\n",
    "        \n",
    "    if j < len(right):\n",
    "        result.extend(right[j:])\n",
    "    return result\n",
    "\n",
    "merge_sort(list)"
   ]
  }
 ],
 "metadata": {
  "kernelspec": {
   "display_name": "Python 3 (ipykernel)",
   "language": "python",
   "name": "python3"
  },
  "language_info": {
   "codemirror_mode": {
    "name": "ipython",
    "version": 3
   },
   "file_extension": ".py",
   "mimetype": "text/x-python",
   "name": "python",
   "nbconvert_exporter": "python",
   "pygments_lexer": "ipython3",
   "version": "3.11.6"
  }
 },
 "nbformat": 4,
 "nbformat_minor": 2
}
