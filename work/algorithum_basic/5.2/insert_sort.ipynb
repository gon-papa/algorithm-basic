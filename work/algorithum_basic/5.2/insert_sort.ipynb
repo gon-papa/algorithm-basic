{
 "cells": [
  {
   "cell_type": "code",
   "execution_count": 7,
   "metadata": {},
   "outputs": [
    {
     "name": "stdout",
     "output_type": "stream",
     "text": [
      "temp4\n",
      "after_sort[6, 15, 15, 2, 8, 5, 11, 9, 7, 13]\n",
      "temp4\n",
      "after_sort[6, 6, 15, 2, 8, 5, 11, 9, 7, 13]\n",
      "temp2\n",
      "after_sort[4, 6, 15, 15, 8, 5, 11, 9, 7, 13]\n",
      "temp2\n",
      "after_sort[4, 6, 6, 15, 8, 5, 11, 9, 7, 13]\n",
      "temp2\n",
      "after_sort[4, 4, 6, 15, 8, 5, 11, 9, 7, 13]\n",
      "temp8\n",
      "after_sort[2, 4, 6, 15, 15, 5, 11, 9, 7, 13]\n",
      "temp5\n",
      "after_sort[2, 4, 6, 8, 15, 15, 11, 9, 7, 13]\n",
      "temp5\n",
      "after_sort[2, 4, 6, 8, 8, 15, 11, 9, 7, 13]\n",
      "temp5\n",
      "after_sort[2, 4, 6, 6, 8, 15, 11, 9, 7, 13]\n",
      "temp11\n",
      "after_sort[2, 4, 5, 6, 8, 15, 15, 9, 7, 13]\n",
      "temp9\n",
      "after_sort[2, 4, 5, 6, 8, 11, 15, 15, 7, 13]\n",
      "temp9\n",
      "after_sort[2, 4, 5, 6, 8, 11, 11, 15, 7, 13]\n",
      "temp7\n",
      "after_sort[2, 4, 5, 6, 8, 9, 11, 15, 15, 13]\n",
      "temp7\n",
      "after_sort[2, 4, 5, 6, 8, 9, 11, 11, 15, 13]\n",
      "temp7\n",
      "after_sort[2, 4, 5, 6, 8, 9, 9, 11, 15, 13]\n",
      "temp7\n",
      "after_sort[2, 4, 5, 6, 8, 8, 9, 11, 15, 13]\n",
      "temp13\n",
      "after_sort[2, 4, 5, 6, 7, 8, 9, 11, 15, 15]\n",
      "[2, 4, 5, 6, 7, 8, 9, 11, 13, 15]\n"
     ]
    }
   ],
   "source": [
    "# 挿入ソート\n",
    "# リストの整列済みの部分に対して新たな要素を適切な位置に挿入することで整列を行うアルゴリズム\n",
    "\n",
    "list = [6, 15, 4, 2, 8, 5, 11, 9, 7, 13]\n",
    "\n",
    "for i in range(len(list)):\n",
    "    temp = list[i] # 現在の値を一時的に保持(挿入するため)\n",
    "    before = i - 1 # 直前のindex(位置を保持)\n",
    "    while (before >= 0) and (list[before] > temp):\n",
    "        print(f'temp{temp}')\n",
    "        list[before + 1] = list[before] # 要素を一つずつ後ろにずらす\n",
    "        before -= 1\n",
    "        print(f'after_sort{list}')\n",
    "    list[before + 1] = temp # 現在の値を挿入\n",
    "\n",
    "# tempに避難させて、listではデータをコピーして前側にtempを挿入する\n",
    "print(list)"
   ]
  }
 ],
 "metadata": {
  "kernelspec": {
   "display_name": "Python 3 (ipykernel)",
   "language": "python",
   "name": "python3"
  },
  "language_info": {
   "codemirror_mode": {
    "name": "ipython",
    "version": 3
   },
   "file_extension": ".py",
   "mimetype": "text/x-python",
   "name": "python",
   "nbconvert_exporter": "python",
   "pygments_lexer": "ipython3",
   "version": "3.11.6"
  }
 },
 "nbformat": 4,
 "nbformat_minor": 2
}
