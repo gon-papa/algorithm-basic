{
 "cells": [
  {
   "cell_type": "code",
   "execution_count": 2,
   "metadata": {},
   "outputs": [
    {
     "name": "stdout",
     "output_type": "stream",
     "text": [
      "a_to_c\n",
      "a_to_b\n",
      "c_to_b\n",
      "a_to_c\n",
      "b_to_a\n",
      "b_to_c\n",
      "a_to_c\n",
      "a_to_b\n",
      "c_to_b\n",
      "c_to_a\n",
      "b_to_a\n",
      "c_to_b\n",
      "a_to_c\n",
      "a_to_b\n",
      "c_to_b\n"
     ]
    }
   ],
   "source": [
    "def hanoi(n, src, dist, via):\n",
    "    if n > 1:\n",
    "        hanoi(n - 1, src, via, dist)\n",
    "        print(f'{src}_to_{dist}')\n",
    "        hanoi(n -1, via, dist, src)\n",
    "    else:\n",
    "        print(f'{src}_to_{dist}')\n",
    "        \n",
    "hanoi(4, 'a', 'b', 'c')\n",
    "\n",
    "# 再起的なポイント\n",
    "# 上部の  n-1  枚のディスクを補助の柱に移動させる->元の柱を出発点、目的の柱を補助の柱と見立てて再帰的に行う\n",
    "# 残りの1枚（最も大きいディスク）を目的の柱に移動させる->この操作は直接行う\n",
    "# 補助の柱にある  n-1  枚のディスクを目的の柱に移動させる->補助の柱を出発点、元の柱を補助の柱と見立てて再帰的に行う\n"
   ]
  }
 ],
 "metadata": {
  "kernelspec": {
   "display_name": "Python 3 (ipykernel)",
   "language": "python",
   "name": "python3"
  },
  "language_info": {
   "codemirror_mode": {
    "name": "ipython",
    "version": 3
   },
   "file_extension": ".py",
   "mimetype": "text/x-python",
   "name": "python",
   "nbconvert_exporter": "python",
   "pygments_lexer": "ipython3",
   "version": "3.11.6"
  }
 },
 "nbformat": 4,
 "nbformat_minor": 2
}
