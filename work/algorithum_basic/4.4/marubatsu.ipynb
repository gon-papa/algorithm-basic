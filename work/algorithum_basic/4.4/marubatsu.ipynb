{
 "cells": [
  {
   "cell_type": "code",
   "execution_count": 2,
   "metadata": {},
   "outputs": [],
   "source": [
    "import random"
   ]
  },
  {
   "cell_type": "code",
   "execution_count": 6,
   "metadata": {},
   "outputs": [
    {
     "name": "stdout",
     "output_type": "stream",
     "text": [
      "['0b110000011', '0b111100']\n"
     ]
    }
   ],
   "source": [
    "# 3目並べを行う\n",
    "\n",
    "winConditions = [\n",
    "    0b111000000, 0b000111000, 0b000000111, 0b100100100, 0b010010010, 0b001001001, 0b100010001, 0b001010100\n",
    "]\n",
    "\n",
    "# 勝者判定\n",
    "def winner(player):\n",
    "    for conditions in winConditions:\n",
    "        if player & conditions == conditions: # &演算で1:1同士をみてplayerが部分的に満たしていても比較できるようにしている\n",
    "            return True\n",
    "    return False\n",
    "\n",
    "def play(p1, p2):\n",
    "    if winner(p2):\n",
    "        print([bin(p1), bin(p2)])\n",
    "        return\n",
    "    \n",
    "    board = p1 | p2 # or演算で盤面を保持\n",
    "    \n",
    "    if board == 0b111111111: # 引き分け\n",
    "        print([bin(p1), bin(p2)])\n",
    "        return\n",
    "    \n",
    "    # 配置可能な場所を探す\n",
    "    w =[i for i in range(9) if(board & (1 << i)) == 0]\n",
    "    r = random.choice(w)\n",
    "    play(p2, p1 | (1 << r))\n",
    "    \n",
    "play(0, 0) "
   ]
  }
 ],
 "metadata": {
  "kernelspec": {
   "display_name": "Python 3 (ipykernel)",
   "language": "python",
   "name": "python3"
  },
  "language_info": {
   "codemirror_mode": {
    "name": "ipython",
    "version": 3
   },
   "file_extension": ".py",
   "mimetype": "text/x-python",
   "name": "python",
   "nbconvert_exporter": "python",
   "pygments_lexer": "ipython3",
   "version": "3.11.6"
  }
 },
 "nbformat": 4,
 "nbformat_minor": 2
}
