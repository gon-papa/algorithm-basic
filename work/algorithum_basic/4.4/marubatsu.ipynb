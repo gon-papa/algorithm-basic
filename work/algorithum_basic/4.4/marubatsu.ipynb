{
 "cells": [
  {
   "cell_type": "code",
   "execution_count": 2,
   "metadata": {},
   "outputs": [],
   "source": [
    "import random"
   ]
  },
  {
   "cell_type": "code",
   "execution_count": 41,
   "metadata": {},
   "outputs": [
    {
     "name": "stdout",
     "output_type": "stream",
     "text": [
      "[0, 1, 2, 3, 4, 5, 6, 7, 8]\n",
      "6\n",
      "p1=000000000, p2=000000000\n",
      "[0, 1, 2, 3, 4, 5, 7, 8]\n",
      "5\n",
      "p1=000000000, p2=001000000\n",
      "[0, 1, 2, 3, 4, 7, 8]\n",
      "8\n",
      "p1=001000000, p2=000100000\n",
      "[0, 1, 2, 3, 4, 7]\n",
      "4\n",
      "p1=000100000, p2=101000000\n",
      "[0, 1, 2, 3, 7]\n",
      "1\n",
      "p1=101000000, p2=000110000\n",
      "[0, 2, 3, 7]\n",
      "2\n",
      "p1=000110000, p2=101000010\n",
      "[0, 3, 7]\n",
      "3\n",
      "p1=101000010, p2=000110100\n",
      "[0, 7]\n",
      "0\n",
      "p1=000110100, p2=101001010\n",
      "[7]\n",
      "7\n",
      "p1=101001010, p2=000110101\n",
      "['0b110101', '0b111001010']\n"
     ]
    }
   ],
   "source": [
    "# 3目並べを行う\n",
    "\n",
    "winConditions = [\n",
    "    0b111000000, 0b000111000, 0b000000111, 0b100100100, 0b010010010, 0b001001001, 0b100010001, 0b001010100\n",
    "]\n",
    "\n",
    "# 勝者判定\n",
    "def winner(player):\n",
    "    for conditions in winConditions:\n",
    "        if player & conditions == conditions: # &演算で1:1同士をみてplayerが部分的に満たしていても比較できるようにしている\n",
    "            return True\n",
    "    return False\n",
    "\n",
    "def play(p1, p2):\n",
    "    if winner(p2):\n",
    "        print([bin(p1), bin(p2)])\n",
    "        return\n",
    "    \n",
    "    board = p1 | p2 # or演算で盤面を保持\n",
    "    \n",
    "    if board == 0b111111111: # 引き分け\n",
    "        print([bin(p1), bin(p2)])\n",
    "        return\n",
    "    \n",
    "    # 配置可能な場所を探す\n",
    "    w =[i for i in range(9) if(board & (1 << i)) == 0]\n",
    "    print(w)\n",
    "    r = random.choice(w)\n",
    "    print(r)\n",
    "    print(f'p1={bin(p1)[2:].zfill(9)}, p2={bin(p2)[2:].zfill(9)}')\n",
    "    play(p2, p1 | (1 << r)) # 再帰でプレイヤーを入れ替え\n",
    "    \n",
    "play(0, 0) "
   ]
  },
  {
   "cell_type": "code",
   "execution_count": 32,
   "metadata": {},
   "outputs": [
    {
     "name": "stdout",
     "output_type": "stream",
     "text": [
      "0b10000\n"
     ]
    }
   ],
   "source": [
    "a = 1 << 4\n",
    "print(bin(a))"
   ]
  }
 ],
 "metadata": {
  "kernelspec": {
   "display_name": "Python 3 (ipykernel)",
   "language": "python",
   "name": "python3"
  },
  "language_info": {
   "codemirror_mode": {
    "name": "ipython",
    "version": 3
   },
   "file_extension": ".py",
   "mimetype": "text/x-python",
   "name": "python",
   "nbconvert_exporter": "python",
   "pygments_lexer": "ipython3",
   "version": "3.11.6"
  }
 },
 "nbformat": 4,
 "nbformat_minor": 2
}
