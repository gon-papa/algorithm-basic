{
 "cells": [
  {
   "cell_type": "markdown",
   "metadata": {},
   "source": [
    "ローマ数字は7種類の記号で表される：I、V、X、L、C、D、M。\n",
    "\n",
    "記号 値\n",
    "I 1\n",
    "V 5\n",
    "X 10\n",
    "L 50\n",
    "C 100\n",
    "D 500\n",
    "M 1000\n",
    "例えば、2はローマ数字でIIと書き、2つの1を足しただけである。12はXIIと書き、これは単にX＋IIである。27はXXVIIと書き、これはXX＋V＋IIである。\n",
    "\n",
    "ローマ数字は通常、左から右に大きいものから小さいものへと書く。しかし、4を表す数字はIIIIではない。代わりに4はIVと書く。1が5の前にあるので、それを引くと4となる。同じ原理が数字の9にも当てはまり、IXと書く。引き算が使われる例は6つある：\n",
    "\n",
    "IをV（5）とX（10）の前に置くと4と9になる。\n",
    "XをL（50）とC（100）の前に置くと、40と90になる。\n",
    "CをD（500）とM（1000）の前に置くと、400と900になる。\n",
    "ローマ数字が与えられたら、それを整数に変換しなさい。\n",
    "\n",
    "s = \"III\" -> 3\n",
    "s = \"LVIII\" -> 58\n",
    "s = \"MCMXCIV\" -> 1994"
   ]
  },
  {
   "cell_type": "code",
   "execution_count": 4,
   "metadata": {},
   "outputs": [
    {
     "name": "stdout",
     "output_type": "stream",
     "text": [
      "1994\n"
     ]
    }
   ],
   "source": [
    "def romanToInt(s: str) -> int:\n",
    "        roman = {\n",
    "            'I': 1,\n",
    "            'V': 5,\n",
    "            'X': 10,\n",
    "            'L': 50,\n",
    "            'C': 100,\n",
    "            'D': 500,\n",
    "            'M': 1000,\n",
    "        }\n",
    "        result = 0\n",
    "        for i in range(len(s) - 1):\n",
    "            if s[i] not in roman:\n",
    "                return 0\n",
    "            \n",
    "            if roman[s[i]] < roman[s[i + 1]]:\n",
    "                result -= roman[s[i]]\n",
    "            else:\n",
    "                result += roman[s[i]]\n",
    "        return result + roman[s[-1]]\n",
    "    \n",
    "print(romanToInt('MCMXCIV'))"
   ]
  }
 ],
 "metadata": {
  "kernelspec": {
   "display_name": "Python 3 (ipykernel)",
   "language": "python",
   "name": "python3"
  },
  "language_info": {
   "codemirror_mode": {
    "name": "ipython",
    "version": 3
   },
   "file_extension": ".py",
   "mimetype": "text/x-python",
   "name": "python",
   "nbconvert_exporter": "python",
   "pygments_lexer": "ipython3",
   "version": "3.11.6"
  }
 },
 "nbformat": 4,
 "nbformat_minor": 2
}
