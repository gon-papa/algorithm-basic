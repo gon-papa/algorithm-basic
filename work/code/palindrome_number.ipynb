{
 "cells": [
  {
   "cell_type": "code",
   "execution_count": 2,
   "metadata": {},
   "outputs": [
    {
     "data": {
      "text/plain": [
       "True"
      ]
     },
     "execution_count": 2,
     "metadata": {},
     "output_type": "execute_result"
    }
   ],
   "source": [
    "# 整数xが与えられた場合それが回文であればTrue, そうでなければFalseで返すこと\n",
    "# 文字列に変換なしで求めよ\n",
    "\n",
    "# 文字列を使ってしまった場合(問題を見落として最初は素直に文字列を反転させてしまった)\n",
    "def isPalindrome(x: int) -> bool:\n",
    "        regular = list(str(x))\n",
    "        reverse = regular[::-1]\n",
    "        for i in range(len(regular)):\n",
    "            if not regular[i] == reverse[i]:\n",
    "                return False\n",
    "        return True\n",
    "    \n",
    "isPalindrome(1221)"
   ]
  },
  {
   "cell_type": "code",
   "execution_count": 10,
   "metadata": {},
   "outputs": [
    {
     "data": {
      "text/plain": [
       "False"
      ]
     },
     "execution_count": 10,
     "metadata": {},
     "output_type": "execute_result"
    }
   ],
   "source": [
    "# 文字列を使用しない場合\n",
    "def isPalindrome(x: int) -> bool:\n",
    "    # 不要条件を除外 xが0か10で割り切れる場合は回文にならないので除外\n",
    "    if (x < 0) or (x != 0 and x % 10 == 0):\n",
    "        return False\n",
    "    \n",
    "    half = 0\n",
    "    while x > half:\n",
    "        # 1221を10で割るとあまりは1となる。このように末尾の値を取り出していく最終的には(12)\n",
    "        half = (half * 10) + (x % 10)\n",
    "        #　xを10で割った(切り捨て)値に更新する(1221->122)最終的には(12)\n",
    "        x = x // 10\n",
    "    \n",
    "    # xとhalfが等しければ回文、奇数であれば値の中心が残るので10で割って切り捨てる(12321は回文として成り立つこのとき、halfは123となり3が邪魔になる)\n",
    "    return x == half or x == half // 10\n",
    "    \n",
    "        \n",
    "isPalindrome(1221)"
   ]
  }
 ],
 "metadata": {
  "kernelspec": {
   "display_name": "Python 3 (ipykernel)",
   "language": "python",
   "name": "python3"
  },
  "language_info": {
   "codemirror_mode": {
    "name": "ipython",
    "version": 3
   },
   "file_extension": ".py",
   "mimetype": "text/x-python",
   "name": "python",
   "nbconvert_exporter": "python",
   "pygments_lexer": "ipython3",
   "version": "3.11.6"
  }
 },
 "nbformat": 4,
 "nbformat_minor": 2
}
